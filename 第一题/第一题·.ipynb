{
 "cells": [
  {
   "cell_type": "code",
   "execution_count": 1,
   "id": "16913f85",
   "metadata": {},
   "outputs": [
    {
     "name": "stderr",
     "output_type": "stream",
     "text": [
      "C:\\Users\\ROG\\.conda\\envs\\pytorch2\\lib\\site-packages\\tqdm\\auto.py:21: TqdmWarning: IProgress not found. Please update jupyter and ipywidgets. See https://ipywidgets.readthedocs.io/en/stable/user_install.html\n",
      "  from .autonotebook import tqdm as notebook_tqdm\n"
     ]
    }
   ],
   "source": [
    "import torch\n",
    "import torchvision\n",
    "import tqdm\n",
    "#定义数据集\n",
    "dataset=torchvision.datasets.MNIST(root='data',train=False,transform=torchvision.transforms.ToTensor(),download=True)"
   ]
  },
  {
   "cell_type": "code",
   "execution_count": 2,
   "id": "b5fd0e99",
   "metadata": {
    "scrolled": true
   },
   "outputs": [],
   "source": [
    "#数据集加载器\n",
    "batch_size=32#每8条数据为一个批次\n",
    "loader = torch.utils.data.DataLoader(dataset=dataset,\n",
    "                                     batch_size=batch_size,\n",
    "                                     shuffle=True,#打乱顺序\n",
    "                                     drop_last=True)#丢弃尾数"
   ]
  },
  {
   "cell_type": "code",
   "execution_count": 3,
   "id": "42a20247",
   "metadata": {},
   "outputs": [],
   "source": [
    "#全连接神经网络\n",
    "class Model(torch.nn.Module):\n",
    "    def __init__(self):\n",
    "        super().__init__()\n",
    "        #定义神经网络结构\n",
    "        self.fc = torch.nn.Sequential(#组合多层神经网络\n",
    "            torch.nn.Linear(in_features=784, out_features=128),\n",
    "            torch.nn.ReLU(),#激活函数\n",
    "            torch.nn.Linear(in_features=128, out_features=256),\n",
    "            torch.nn.ReLU(),#激活函数\n",
    "            torch.nn.Linear(in_features=256, out_features=10),\n",
    "            torch.nn.Softmax(dim=1)#归一化\n",
    "        )\n",
    "    #定义神经网络计算过程\n",
    "    def forward(self, x):\n",
    "        return self.fc(x)"
   ]
  },
  {
   "cell_type": "code",
   "execution_count": 4,
   "id": "4153f1d6",
   "metadata": {},
   "outputs": [],
   "source": [
    "#初始化神经网络\n",
    "model = Model()"
   ]
  },
  {
   "cell_type": "code",
   "execution_count": 5,
   "id": "a7f0f012",
   "metadata": {},
   "outputs": [],
   "source": [
    "#初始化指标参数\n",
    "TP=FP=TN=FN=overall=0\n",
    "#定义指标计算函数\n",
    "def count(x,y,target_label):\n",
    "    global TP,FP,TN,FN,overall\n",
    "    if x==y:\n",
    "        overall+=1\n",
    "    if x==target_label and y==target_label:\n",
    "        TP+=1\n",
    "    elif x==target_label and y!=target_label:\n",
    "        FP+=1    \n",
    "    elif x!=target_label and y!=target_label:\n",
    "        TN+=1        \n",
    "    else:\n",
    "        FN+=1        \n",
    "def printParameter():\n",
    "    global TP,FP,TN,FN,overall\n",
    "    overallAccuracy=overall/(TP+TN+FP+FN)if (TP+TN+FP+FN) > 0 else 0\n",
    "    accuracy=(TP+TN)/(TP+TN+FP+FN)if (TP+TN+FP+FN) > 0 else 0\n",
    "    precision=TP/(TP+FP)if (TP + FP) > 0 else 0\n",
    "    recall=TP/(TP+FN)if (TP+FN) > 0 else 0\n",
    "    F1=2*(precision*recall)/(precision+recall)if (precision+recall) > 0 else 0\n",
    "    print(f\"overall accuracy={overallAccuracy}\")\n",
    "    print(f\"accuracy={accuracy}\")\n",
    "    print(f\"precision={precision}\")\n",
    "    print(f\"recall={recall}\")\n",
    "    print(f\"F1={F1}\")\n",
    "def resetCount():\n",
    "    global TP,FP,TN,FN,overall\n",
    "    TP=TN=FP=FN=overall=0"
   ]
  },
  {
   "cell_type": "code",
   "execution_count": 6,
   "id": "d2bce1c6",
   "metadata": {},
   "outputs": [],
   "source": [
    "#model = torch.load('fc_mnist.pth')"
   ]
  },
  {
   "cell_type": "code",
   "execution_count": 7,
   "id": "233d2672",
   "metadata": {
    "scrolled": true
   },
   "outputs": [],
   "source": [
    "#定义训练过程\n",
    "model.cuda()#在GPU上面训练\n",
    "target_label=7#自定义正例，其他为负例\n",
    "TP=TN=FP=FN=overall=0\n",
    "def train():\n",
    "    #优化器,根据梯度调整模型参数\n",
    "    optimizer = torch.optim.Adam(model.parameters(), lr=1e-4)\n",
    "    #计算loss的函数\n",
    "    loss_fun = torch.nn.CrossEntropyLoss()\n",
    "    #让model进入train模式,开启dropout等功能\n",
    "    model.train()\n",
    "    bar=tqdm.tqdm(range(100))\n",
    "    #全量数据遍历100轮\n",
    "    for epoch in bar:\n",
    "        for i, (x, y) in enumerate(loader):\n",
    "            x=x.reshape(-1,784).cuda()\n",
    "            y=y.cuda()\n",
    "            output = model(x)\n",
    "            loss = loss_fun(output, y)\n",
    "            #根据loss计算模型的梯度\n",
    "            loss.backward()\n",
    "            #根据梯度调整模型的参数\n",
    "            optimizer.step()\n",
    "            #梯度归零,准备下一轮的计算\n",
    "            optimizer.zero_grad()\n",
    "        if epoch % 20 == 0:#每20轮训练打印一次模型精确度\n",
    "            j=0\n",
    "            for x in output.argmax(dim=1):\n",
    "                count(x,y[j],target_label)\n",
    "                j+=1\n",
    "            print(f\"epoch={epoch},loss={loss.item()/batch_size}\")\n",
    "            printParameter()\n",
    "            resetCount()"
   ]
  },
  {
   "cell_type": "code",
   "execution_count": 8,
   "id": "c8ab26eb",
   "metadata": {},
   "outputs": [
    {
     "name": "stderr",
     "output_type": "stream",
     "text": [
      "  1%|▊                                                                                 | 1/100 [00:01<02:46,  1.68s/it]"
     ]
    },
    {
     "name": "stdout",
     "output_type": "stream",
     "text": [
      "epoch=0,loss=0.054583415389060974\n",
      "overall accuracy=0.84375\n",
      "accuracy=0.96875\n",
      "precision=1.0\n",
      "recall=0.6666666666666666\n",
      "F1=0.8\n"
     ]
    },
    {
     "name": "stderr",
     "output_type": "stream",
     "text": [
      " 21%|█████████████████                                                                | 21/100 [00:35<02:15,  1.71s/it]"
     ]
    },
    {
     "name": "stdout",
     "output_type": "stream",
     "text": [
      "epoch=20,loss=0.04801458865404129\n",
      "overall accuracy=0.9375\n",
      "accuracy=0.96875\n",
      "precision=1.0\n",
      "recall=0.6666666666666666\n",
      "F1=0.8\n"
     ]
    },
    {
     "name": "stderr",
     "output_type": "stream",
     "text": [
      " 41%|█████████████████████████████████▏                                               | 41/100 [01:11<01:45,  1.79s/it]"
     ]
    },
    {
     "name": "stdout",
     "output_type": "stream",
     "text": [
      "epoch=40,loss=0.04754553362727165\n",
      "overall accuracy=0.9375\n",
      "accuracy=1.0\n",
      "precision=1.0\n",
      "recall=1.0\n",
      "F1=1.0\n"
     ]
    },
    {
     "name": "stderr",
     "output_type": "stream",
     "text": [
      " 61%|█████████████████████████████████████████████████▍                               | 61/100 [01:45<01:11,  1.84s/it]"
     ]
    },
    {
     "name": "stdout",
     "output_type": "stream",
     "text": [
      "epoch=60,loss=0.04566667973995209\n",
      "overall accuracy=1.0\n",
      "accuracy=1.0\n",
      "precision=1.0\n",
      "recall=1.0\n",
      "F1=1.0\n"
     ]
    },
    {
     "name": "stderr",
     "output_type": "stream",
     "text": [
      " 81%|█████████████████████████████████████████████████████████████████▌               | 81/100 [02:21<00:35,  1.89s/it]"
     ]
    },
    {
     "name": "stdout",
     "output_type": "stream",
     "text": [
      "epoch=80,loss=0.04567842185497284\n",
      "overall accuracy=1.0\n",
      "accuracy=1.0\n",
      "precision=1.0\n",
      "recall=1.0\n",
      "F1=1.0\n"
     ]
    },
    {
     "name": "stderr",
     "output_type": "stream",
     "text": [
      "100%|████████████████████████████████████████████████████████████████████████████████| 100/100 [02:57<00:00,  1.78s/it]\n"
     ]
    }
   ],
   "source": [
    "#训练\n",
    "train()"
   ]
  },
  {
   "cell_type": "code",
   "execution_count": 9,
   "id": "52a876ce",
   "metadata": {},
   "outputs": [],
   "source": [
    "#保存训练完的神经网络\n",
    "torch.save(model, 'fc_mnist.pth')"
   ]
  },
  {
   "cell_type": "code",
   "execution_count": 10,
   "id": "10d3a668",
   "metadata": {},
   "outputs": [
    {
     "name": "stdout",
     "output_type": "stream",
     "text": [
      "overall accuracy=0.9808693910256411\n",
      "accuracy=0.9965945512820513\n",
      "precision=0.9825072886297376\n",
      "recall=0.9844206426484907\n",
      "F1=0.9834630350194552\n"
     ]
    }
   ],
   "source": [
    "#测试\n",
    "#不计算模型梯度,节省计算资源\n",
    "target_label=7#自定义正例，其他为负例\n",
    "resetCount()\n",
    "@torch.no_grad()\n",
    "def test():\n",
    "    #从磁盘加载模型\n",
    "    model = torch.load('fc_mnist.pth')\n",
    "    #模型进入测试模式,关闭dropout等功能\n",
    "    model=model.eval().cuda()\n",
    "    target_label=7#自定义正例，其他为负例\n",
    "    TP=TN=FP=FN=overall=0\n",
    "    #遍历整个数据集\n",
    "    for i, (x, y) in enumerate(loader):\n",
    "        x=x.reshape(-1,784).cuda()\n",
    "        y=y.cuda()\n",
    "        output = model(x)\n",
    "        #求一个batch内各指标并累加\n",
    "        j=0\n",
    "        for x in output.argmax(dim=1):\n",
    "            count(x,y[j],target_label)\n",
    "            j+=1\n",
    "    printParameter()#打印指标\n",
    "    resetCount()#重置参数\n",
    "test()"
   ]
  }
 ],
 "metadata": {
  "kernelspec": {
   "display_name": "Python 3 (ipykernel)",
   "language": "python",
   "name": "python3"
  },
  "language_info": {
   "codemirror_mode": {
    "name": "ipython",
    "version": 3
   },
   "file_extension": ".py",
   "mimetype": "text/x-python",
   "name": "python",
   "nbconvert_exporter": "python",
   "pygments_lexer": "ipython3",
   "version": "3.9.18"
  }
 },
 "nbformat": 4,
 "nbformat_minor": 5
}
